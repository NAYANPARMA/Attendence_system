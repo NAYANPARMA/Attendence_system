{
  "nbformat": 4,
  "nbformat_minor": 0,
  "metadata": {
    "colab": {
      "name": "Attendence System",
      "provenance": [],
      "collapsed_sections": []
    },
    "kernelspec": {
      "name": "python3",
      "display_name": "Python 3"
    },
    "accelerator": "GPU"
  },
  "cells": [
    {
      "cell_type": "code",
      "metadata": {
        "id": "QwW0O47WOr-h",
        "colab_type": "code",
        "colab": {
          "base_uri": "https://localhost:8080/",
          "height": 34
        },
        "outputId": "0bd559b4-ef75-482d-c4d6-629aab86dc64"
      },
      "source": [
        "from google.colab import drive\n",
        "drive.mount('/content/drive')"
      ],
      "execution_count": null,
      "outputs": [
        {
          "output_type": "stream",
          "text": [
            "Mounted at /content/drive\n"
          ],
          "name": "stdout"
        }
      ]
    },
    {
      "cell_type": "code",
      "metadata": {
        "id": "GiYbaALsTDfs",
        "colab_type": "code",
        "colab": {}
      },
      "source": [
        "import os\n",
        "import cv2\n",
        "import numpy as np\n",
        "import random\n",
        "import matplotlib.pyplot as plt\n",
        "import tensorflow as tf\n",
        "from keras import backend as K\n",
        "from keras.models import Model, Sequential\n",
        "from keras.layers import *\n",
        "from keras.callbacks import ModelCheckpoint\n",
        "from keras.applications import InceptionResNetV2"
      ],
      "execution_count": null,
      "outputs": []
    },
    {
      "cell_type": "code",
      "metadata": {
        "id": "BQofQJ17SkMR",
        "colab_type": "code",
        "colab": {}
      },
      "source": [
        "dir = \"/content/drive/My Drive/Attendence_system/trainset\"\n",
        "batchsize = 32\n",
        "image_size = 96"
      ],
      "execution_count": null,
      "outputs": []
    },
    {
      "cell_type": "code",
      "metadata": {
        "id": "1KoH0i9lZ8B4",
        "colab_type": "code",
        "colab": {}
      },
      "source": [
        "def data(dir):\n",
        "  i = 0 \n",
        "  for subdir in os.listdir(dir):\n",
        "    subdir_path = dir + '/' + subdir\n",
        "    for imagedir in os.listdir(subdir_path):\n",
        "      print(imagedir)\n",
        "      imagedir_path = subdir_path + '/' + imagedir\n",
        "      for image in os.listdir(imagedir_path):\n",
        "        face_extraction(imagedir_path+'/'+image,imagedir_path,image,imagedir)\n",
        "  return \n"
      ],
      "execution_count": null,
      "outputs": []
    },
    {
      "cell_type": "code",
      "metadata": {
        "id": "y-mKFk10T4Jd",
        "colab_type": "code",
        "colab": {}
      },
      "source": [
        "def face_extraction(original_image,imagedir_path,image_name,imagedir):\n",
        "  image = cv2.imread(original_image)\n",
        "  gray = cv2.cvtColor(image, cv2.COLOR_BGR2GRAY)\n",
        "\n",
        "  faceCascade = cv2.CascadeClassifier(cv2.data.haarcascades + 'haarcascade_frontalface_default.xml')\n",
        "  faces = faceCascade.detectMultiScale(gray,scaleFactor=1.3,minNeighbors=6)\n",
        "  if len(faces) != 1:\n",
        "    return 0\n",
        "  x,y,w,h = faces.squeeze()\n",
        "  cropImage = image[y:y+h,x:x+w]\n",
        "\n",
        "  if \"script\" in original_image:\n",
        "    path = f\"/content/drive/My Drive/Attendence_system/Face_extracted/{imagedir}_anchor.jpg\"\n",
        "  else:\n",
        "    path = f\"/content/drive/My Drive/Attendence_system/Face_extracted/{imagedir}_positive.jpg\"\n",
        "  cv2.imwrite(path,cropImage)\n",
        "  \n",
        "  return cropImage"
      ],
      "execution_count": null,
      "outputs": []
    },
    {
      "cell_type": "code",
      "metadata": {
        "id": "h-THnQiCJGof",
        "colab_type": "code",
        "colab": {}
      },
      "source": [
        "def image_preprocess(image_path):\n",
        " # print(image_path)\n",
        "  image = cv2.imread(image_path)\n",
        "  resizeImage =cv2.resize(image,(image_size,image_size))\n",
        "  resizeImage=resizeImage.astype('float32')/255.0\n",
        "  return resizeImage"
      ],
      "execution_count": null,
      "outputs": []
    },
    {
      "cell_type": "code",
      "metadata": {
        "id": "1SFaSQ7b_DO1",
        "colab_type": "code",
        "colab": {}
      },
      "source": [
        "def get_data(batch_size):\n",
        "\n",
        "  a =[]\n",
        "  p = []\n",
        "  n = []\n",
        "  path = \"/content/drive/My Drive/Attendence_system/Face_extracted\"\n",
        "  listofImage = list(os.listdir(path))\n",
        "  listofImage.remove('.ipynb_checkpoints')\n",
        "  i = 0\n",
        "  while i < batch_size:\n",
        "\n",
        "    randomIndex= int(random.random()*len(listofImage))\n",
        "    #print(randomIndex)\n",
        "    if randomIndex == (len(listofImage)):\n",
        "      randomIndex = randomIndex - 1\n",
        "    \n",
        "    getImage = listofImage[randomIndex]\n",
        "    anchorImage = getImage.split(\"_\")[0]+'_'+getImage.split(\"_\")[1]+\"_anchor.jpg\"\n",
        "    positiveImage = getImage.split(\"_\")[0]+'_'+getImage.split(\"_\")[1]+\"_positive.jpg\"\n",
        "    if anchorImage in listofImage and positiveImage in listofImage:\n",
        "      a.append(path+'/'+anchorImage)\n",
        "      p.append(path+'/'+positiveImage)\n",
        "    else:\n",
        "      continue\n",
        "        \n",
        "    nRandomIndex = int(random.random()*len(listofImage))\n",
        "    while nRandomIndex == randomIndex:\n",
        "      nRandomIndex = int(random.random()*len(listofImage))\n",
        "    i = i + 1\n",
        "\n",
        "    n.append(path+'/'+listofImage[nRandomIndex])\n",
        "\n",
        "  return a,p,n"
      ],
      "execution_count": null,
      "outputs": []
    },
    {
      "cell_type": "code",
      "metadata": {
        "id": "W-qZB8NyDtqu",
        "colab_type": "code",
        "colab": {}
      },
      "source": [
        "def data_generation(batchsize):\n",
        "\n",
        "  faceAnchor = np.zeros((batchsize,image_size,image_size,3))\n",
        "  facepositive = np.zeros((batchsize,image_size,image_size,3))\n",
        "  facenagative = np.zeros((batchsize,image_size,image_size,3))\n",
        "  a,p,n  = get_data(batchsize)\n",
        "\n",
        "  for i in range(len(a)):\n",
        "    faceAnchor[i:] = image_preprocess(a[i])\n",
        "    facepositive[i:] = image_preprocess(p[i])\n",
        "    facenagative[i:] = image_preprocess(n[i])\n",
        "\n",
        "  x = [faceAnchor , facepositive , facenagative]\n",
        "  y = np.zeros((batchsize,1)).astype(\"float32\")\n",
        "  return (x,y)"
      ],
      "execution_count": null,
      "outputs": []
    },
    {
      "cell_type": "code",
      "metadata": {
        "id": "CAbvLCOtK0Vo",
        "colab_type": "code",
        "colab": {}
      },
      "source": [
        "(x,y) = data_generation(3200)"
      ],
      "execution_count": null,
      "outputs": []
    },
    {
      "cell_type": "code",
      "metadata": {
        "id": "GCV4MI6kQjC2",
        "colab_type": "code",
        "colab": {}
      },
      "source": [
        "def triplet_loss(y_true, y_pred, alpha = 0.2):    \n",
        "    anchor,position,nagative=y_pred[:,0:128],y_pred[:,128:256],y_pred[:,256:384]\n",
        "    \n",
        "    pos_dist =tf.reduce_sum(tf.square(tf.subtract(anchor,position)),axis=-1)\n",
        "    neg_dist =  tf.reduce_sum(tf.square(tf.subtract(anchor,nagative)),axis = -1)\n",
        "    basic_loss = tf.add(tf.subtract(pos_dist,neg_dist),alpha)\n",
        "    loss = tf.reduce_sum(tf.maximum(basic_loss,0.0),axis = None)\n",
        "    \n",
        "    return loss"
      ],
      "execution_count": null,
      "outputs": []
    },
    {
      "cell_type": "code",
      "metadata": {
        "id": "wacJb2s7TXTk",
        "colab_type": "code",
        "colab": {}
      },
      "source": [
        "def faceRecogizationModel(inputshape = (96,96,3)):\n",
        "  model = Sequential()\n",
        "  model.add(InceptionResNetV2(input_shape=(96,96,3), include_top = False, weights='imagenet'))\n",
        "  #model.add(AveragePooling2D())\n",
        "  model.layers[0].trainable = True\n",
        "  model.add(Flatten())\n",
        "  model.add(Dense(128))\n",
        "  model.add(Lambda(lambda  x: K.l2_normalize(x,axis=1)))\n",
        "  return model\n"
      ],
      "execution_count": null,
      "outputs": []
    },
    {
      "cell_type": "code",
      "metadata": {
        "id": "VQiAGhzmX3PD",
        "colab_type": "code",
        "colab": {}
      },
      "source": [
        "FRmodel = faceRecogizationModel(inputshape=(96,96,3))\n",
        "#FRmodel.build(input_shape=(96,96,3))\n",
        "#FRmodel.compile(optimizer = 'adam', loss = triplet_loss, metrics = ['accuracy'])"
      ],
      "execution_count": null,
      "outputs": []
    },
    {
      "cell_type": "code",
      "metadata": {
        "id": "yFKfs0ioY9Ce",
        "colab_type": "code",
        "colab": {
          "base_uri": "https://localhost:8080/",
          "height": 289
        },
        "outputId": "03ce6831-b78f-4f8d-d8fd-a2477a7b2181"
      },
      "source": [
        "FRmodel.summary()"
      ],
      "execution_count": null,
      "outputs": [
        {
          "output_type": "stream",
          "text": [
            "Model: \"sequential_4\"\n",
            "_________________________________________________________________\n",
            "Layer (type)                 Output Shape              Param #   \n",
            "=================================================================\n",
            "inception_resnet_v2 (Functio (None, 1, 1, 1536)        54336736  \n",
            "_________________________________________________________________\n",
            "flatten_4 (Flatten)          (None, 1536)              0         \n",
            "_________________________________________________________________\n",
            "dense_4 (Dense)              (None, 128)               196736    \n",
            "_________________________________________________________________\n",
            "lambda_4 (Lambda)            (None, 128)               0         \n",
            "=================================================================\n",
            "Total params: 54,533,472\n",
            "Trainable params: 54,472,928\n",
            "Non-trainable params: 60,544\n",
            "_________________________________________________________________\n"
          ],
          "name": "stdout"
        }
      ]
    },
    {
      "cell_type": "code",
      "metadata": {
        "id": "kuCQAD7tc5fv",
        "colab_type": "code",
        "colab": {}
      },
      "source": [
        "anchorInput = Input((96,96,3))\n",
        "positiveInput = Input((96,96,3))\n",
        "nagativeInput = Input((96,96,3))\n",
        "Output = concatenate([FRmodel(anchorInput), FRmodel(positiveInput), FRmodel(nagativeInput)])\n",
        "triplet_model = Model(inputs = [anchorInput , positiveInput , nagativeInput] , outputs = Output)"
      ],
      "execution_count": null,
      "outputs": []
    },
    {
      "cell_type": "code",
      "metadata": {
        "id": "3_fHRZOohJCj",
        "colab_type": "code",
        "colab": {}
      },
      "source": [
        "triplet_model.compile(optimizer='adam',loss=triplet_loss)"
      ],
      "execution_count": null,
      "outputs": []
    },
    {
      "cell_type": "code",
      "metadata": {
        "id": "WjFNNcwchXXR",
        "colab_type": "code",
        "colab": {
          "base_uri": "https://localhost:8080/",
          "height": 391
        },
        "outputId": "7b5e6de7-c4ba-4186-d954-063c774dfce6"
      },
      "source": [
        "triplet_model.summary()"
      ],
      "execution_count": null,
      "outputs": [
        {
          "output_type": "stream",
          "text": [
            "Model: \"functional_9\"\n",
            "__________________________________________________________________________________________________\n",
            "Layer (type)                    Output Shape         Param #     Connected to                     \n",
            "==================================================================================================\n",
            "input_18 (InputLayer)           [(None, 96, 96, 3)]  0                                            \n",
            "__________________________________________________________________________________________________\n",
            "input_19 (InputLayer)           [(None, 96, 96, 3)]  0                                            \n",
            "__________________________________________________________________________________________________\n",
            "input_20 (InputLayer)           [(None, 96, 96, 3)]  0                                            \n",
            "__________________________________________________________________________________________________\n",
            "sequential_4 (Sequential)       (None, 128)          54533472    input_18[0][0]                   \n",
            "                                                                 input_19[0][0]                   \n",
            "                                                                 input_20[0][0]                   \n",
            "__________________________________________________________________________________________________\n",
            "concatenate_8 (Concatenate)     (None, 384)          0           sequential_4[0][0]               \n",
            "                                                                 sequential_4[1][0]               \n",
            "                                                                 sequential_4[2][0]               \n",
            "==================================================================================================\n",
            "Total params: 54,533,472\n",
            "Trainable params: 54,472,928\n",
            "Non-trainable params: 60,544\n",
            "__________________________________________________________________________________________________\n"
          ],
          "name": "stdout"
        }
      ]
    },
    {
      "cell_type": "code",
      "metadata": {
        "id": "DtQQQtTBbV93",
        "colab_type": "code",
        "colab": {
          "base_uri": "https://localhost:8080/",
          "height": 374
        },
        "outputId": "5207e7fe-94b4-4d8b-e886-ad348fbdca67"
      },
      "source": [
        "triplet_model.fit(x,y,epochs = 10, batch_size= 32)"
      ],
      "execution_count": null,
      "outputs": [
        {
          "output_type": "stream",
          "text": [
            "Epoch 1/10\n",
            "100/100 [==============================] - 34s 338ms/step - loss: 3.0664\n",
            "Epoch 2/10\n",
            "100/100 [==============================] - 34s 342ms/step - loss: 1.1075\n",
            "Epoch 3/10\n",
            "100/100 [==============================] - 35s 347ms/step - loss: 0.9062\n",
            "Epoch 4/10\n",
            "100/100 [==============================] - 35s 350ms/step - loss: 0.7084\n",
            "Epoch 5/10\n",
            "100/100 [==============================] - 35s 352ms/step - loss: 0.5307\n",
            "Epoch 6/10\n",
            "100/100 [==============================] - 35s 354ms/step - loss: 0.5391\n",
            "Epoch 7/10\n",
            "100/100 [==============================] - 35s 355ms/step - loss: 0.4598\n",
            "Epoch 8/10\n",
            "100/100 [==============================] - 36s 356ms/step - loss: 0.3515\n",
            "Epoch 9/10\n",
            "100/100 [==============================] - 35s 355ms/step - loss: 0.2324\n",
            "Epoch 10/10\n",
            "100/100 [==============================] - 35s 354ms/step - loss: 0.2156\n"
          ],
          "name": "stdout"
        },
        {
          "output_type": "execute_result",
          "data": {
            "text/plain": [
              "<tensorflow.python.keras.callbacks.History at 0x7f42ea2546a0>"
            ]
          },
          "metadata": {
            "tags": []
          },
          "execution_count": 349
        }
      ]
    },
    {
      "cell_type": "code",
      "metadata": {
        "id": "MvwhVZMNpwxd",
        "colab_type": "code",
        "colab": {}
      },
      "source": [
        "triplet_model.save('/content/drive/My Drive/Attendence_system/AttendenceSystem.h5')"
      ],
      "execution_count": null,
      "outputs": []
    },
    {
      "cell_type": "code",
      "metadata": {
        "id": "gEv5EM6Vsysm",
        "colab_type": "code",
        "colab": {}
      },
      "source": [
        ""
      ],
      "execution_count": null,
      "outputs": []
    }
  ]
}